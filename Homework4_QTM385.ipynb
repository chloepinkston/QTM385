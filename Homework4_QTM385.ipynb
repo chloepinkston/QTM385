{
 "cells": [
  {
   "cell_type": "markdown",
   "metadata": {},
   "source": [
    "# QTM 385\n",
    "\n",
    "***\n",
    "\n",
    "## Homework 4\n",
    "\n",
    "Student: Chloe Pinkston"
   ]
  },
  {
   "cell_type": "markdown",
   "metadata": {},
   "source": [
    "In this homework, we will create an object called Student, that is useful for a professor to store information about a student."
   ]
  },
  {
   "cell_type": "markdown",
   "metadata": {},
   "source": [
    "\n",
    "***\n",
    "\n",
    "### Question 1\n",
    "\n",
    "Create a class Student, that has:\n",
    "\n",
    "0. Id number (5-digits integer, starting with 1)\n",
    "1. First Name (str)\n",
    "2. Last Name (str)\n",
    "3. Grades (list of floats)\n",
    "4. Credits (list of integers)\n",
    "5. Major (str)\n",
    "\n",
    "Provide a constructor for your class and create one fictitious student."
   ]
  },
  {
   "cell_type": "code",
   "execution_count": 149,
   "metadata": {},
   "outputs": [],
   "source": [
    "class Student:\n",
    "    \n",
    "    def __init__(self, id_num, fname, lname, grad, cred, maj):\n",
    "        self.id_number = id_num\n",
    "        self.first_name = fname\n",
    "        self.last_name = lname\n",
    "        self.grades = grad\n",
    "        self.credits = cred\n",
    "        self.major = maj\n",
    "        \n",
    "    \n",
    "stu1 = Student(19876, 'Jake', 'Smith', [86.0, 91.5, 98.0, 90.3], [3, 4, 4, 2, 2], 'Biology')"
   ]
  },
  {
   "cell_type": "markdown",
   "metadata": {},
   "source": [
    "\n",
    "***\n",
    "\n",
    "### Question 2\n",
    "\n",
    "Create a method to nicely display the student when we type `print`. It should display, for example:\n",
    "\n",
    "```\n",
    "Student:\n",
    "    Id: 12345\n",
    "    Name: Mig, Umberto\n",
    "    Major: QSS\n",
    "```\n",
    "\n",
    "Create a method that, when a variable storing a student is typed in the console, displays:\n",
    "\n",
    "```\n",
    "Student(Mig, Umberto; 12345)\n",
    "```\n",
    "\n",
    "Provide some testing with a fictitious result of your choice."
   ]
  },
  {
   "cell_type": "code",
   "execution_count": 150,
   "metadata": {},
   "outputs": [
    {
     "name": "stdout",
     "output_type": "stream",
     "text": [
      "\n",
      "        Student:\n",
      "            Id: 12345\n",
      "            Name: Umberto, Mig\n",
      "            Major: QSS\n",
      "            \n"
     ]
    }
   ],
   "source": [
    "class Student:\n",
    "    \n",
    "    def __init__(self, id_num, fname, lname, grad, cred, maj):\n",
    "        self.id_number = id_num\n",
    "        self.first_name = fname\n",
    "        self.last_name = lname\n",
    "        self.grades = grad\n",
    "        self.credits = cred\n",
    "        self.major = maj\n",
    "        \n",
    "    def __str__(self):\n",
    "        st_info = \"\"\"\n",
    "        Student:\n",
    "            Id: {id1}\n",
    "            Name: {last_name}, {first_name}\n",
    "            Major: {major1}\n",
    "            \"\"\".format(id1 = self.id_number, last_name = self.last_name, first_name = self.first_name,  major1 = self.major)\n",
    "        return st_info\n",
    "\n",
    "stu2 = Student(12345, 'Mig', 'Umberto', [94.5, 87, 91, 93.4], [3, 4, 3, 4], 'QSS')\n",
    "\n",
    "\n",
    "print(stu2)"
   ]
  },
  {
   "cell_type": "markdown",
   "metadata": {},
   "source": [
    "\n",
    "***\n",
    "\n",
    "### Question 3\n",
    "\n",
    "Implement class methods for:\n",
    "\n",
    "1. Check if the id number is valid (remember: 5 digits, starting with number one)\n",
    "2. Check if the grades list has the same length as the credits list. The idea is that every grade corresponds to a course that gave the student a certain amount of credits.\n",
    "3. Append grade and credit: given a grade, and credits attached to the grade, append both to each respective place.\n",
    "\n",
    "Test your function with a toy student of your choice."
   ]
  },
  {
   "cell_type": "code",
   "execution_count": 157,
   "metadata": {},
   "outputs": [
    {
     "name": "stdout",
     "output_type": "stream",
     "text": [
      "ID number is not valid\n",
      "Credits and grades are not equal\n",
      "[86.0, 91.5, 98.0, 90.3, 95.2]\n",
      "[3, 4, 4, 5, 2]\n"
     ]
    }
   ],
   "source": [
    "class Student:\n",
    "    \n",
    "    def __init__(self, id_num, fname, lname, grad, cred, maj):\n",
    "        self.id_number = id_num\n",
    "        self.first_name = fname\n",
    "        self.last_name = lname\n",
    "        self.grades = grad\n",
    "        self.credits = cred\n",
    "        self.major = maj\n",
    "        \n",
    "    def check_id(self):\n",
    "        if len(str(self.id_number)) != 5:\n",
    "            print('ID number is not valid')\n",
    "        else:\n",
    "            print('ID number is valid')\n",
    "  \n",
    "    \n",
    "    def check_grades_credits(self):\n",
    "        if len(self.grades) != len(self.credits):\n",
    "            print('Credits and grades are not equal')\n",
    "        else:\n",
    "            print('Correct number of grades and credits')\n",
    "    \n",
    "    def append_grades_credits(self, g, c):\n",
    "        self.grades.append(g)\n",
    "        self.credits.append(c)\n",
    "        \n",
    "stu1a = Student(154760, 'Jake', 'Smith', [86.0, 91.5, 98.0, 90.3], [3, 4, 4], 'Biology')\n",
    "stu1b = Student(15940, 'Sarah', 'Betts', [86.0, 91.5, 98.0, 90.3], [3, 4, 4, 5], 'Mathematics')\n",
    "\n",
    "\n",
    "#1\n",
    "stu1a.check_id()\n",
    "\n",
    "\n",
    "#2\n",
    "stu1a.check_grades_credits()\n",
    "\n",
    "\n",
    "#3\n",
    "stu1b.append_grades_credits(95.2, 2)\n",
    "print(stu1b.grades)\n",
    "print(stu1b.credits)\n"
   ]
  },
  {
   "cell_type": "markdown",
   "metadata": {},
   "source": [
    "\n",
    "***\n",
    "\n",
    "### Question 4\n",
    "\n",
    "Create a module in the class Student that computes the unweighted average of the student's grades."
   ]
  },
  {
   "cell_type": "code",
   "execution_count": 158,
   "metadata": {},
   "outputs": [
    {
     "data": {
      "text/plain": [
       "91.45"
      ]
     },
     "execution_count": 158,
     "metadata": {},
     "output_type": "execute_result"
    }
   ],
   "source": [
    "class Student:\n",
    "    \n",
    "    def __init__(self, id_num, fname, lname, grad, cred, maj):\n",
    "        self.id_number = id_num\n",
    "        self.first_name = fname\n",
    "        self.last_name = lname\n",
    "        self.grades = grad\n",
    "        self.credits = cred\n",
    "        self.major = maj\n",
    "        \n",
    "    def avg_grades_u(self):\n",
    "        avg_u= 0\n",
    "        for i in self.grades:\n",
    "            avg_u += i\n",
    "        avg_u = avg_u/len(self.grades)\n",
    "        return avg_u\n",
    "    \n",
    "stu2 = Student(15498, 'Mary', 'Smith', [86.0, 91.5, 98.0, 90.3], [3, 4, 4, 4], 'Chemistry')\n",
    "\n",
    "stu2.avg_grades_u()"
   ]
  },
  {
   "cell_type": "markdown",
   "metadata": {},
   "source": [
    "\n",
    "***\n",
    "\n",
    "### Question 5\n",
    "\n",
    "Create a module in the class Student that computes the weighted average of the student's grades, weighted by the credits."
   ]
  },
  {
   "cell_type": "code",
   "execution_count": 159,
   "metadata": {},
   "outputs": [
    {
     "name": "stdout",
     "output_type": "stream",
     "text": [
      "91.81333333333332\n"
     ]
    }
   ],
   "source": [
    "class Student:\n",
    "    \n",
    "    def __init__(self, id_num, fname, lname, grad, cred, maj):\n",
    "        self.id_number = id_num\n",
    "        self.first_name = fname\n",
    "        self.last_name = lname\n",
    "        self.grades = grad\n",
    "        self.credits = cred\n",
    "        self.major = maj\n",
    "        \n",
    "        \n",
    "    def avg_grades_w(self):\n",
    "        avg_w =0\n",
    "        weight = sum(self.credits)\n",
    "        for i in range(len(self.grades)):\n",
    "            avg_w += self.credits[i]/weight*self.grades[i]\n",
    "        print(avg_w)\n",
    "          \n",
    "   \n",
    "    \n",
    "stu2 = Student(15498, 'Mary', 'Smith', [86.0, 91.5, 98.0, 90.3], [3, 4, 4, 4], 'Chemistry')\n",
    "\n",
    "stu2.avg_grades_w()"
   ]
  }
 ],
 "metadata": {
  "kernelspec": {
   "display_name": "Python 3",
   "language": "python",
   "name": "python3"
  },
  "language_info": {
   "codemirror_mode": {
    "name": "ipython",
    "version": 3
   },
   "file_extension": ".py",
   "mimetype": "text/x-python",
   "name": "python",
   "nbconvert_exporter": "python",
   "pygments_lexer": "ipython3",
   "version": "3.8.3"
  }
 },
 "nbformat": 4,
 "nbformat_minor": 4
}
